{
 "cells": [
  {
   "cell_type": "markdown",
   "id": "92778525",
   "metadata": {},
   "source": [
    "# Assignment 2: Linear Models and Validation Metrics (40 marks total)\n",
    "### Due: February 14 at 11:59pm\n",
    "\n",
    "### Name: "
   ]
  },
  {
   "cell_type": "markdown",
   "id": "ce31b39a",
   "metadata": {},
   "source": [
    "### In this assignment, you will need to write code that uses linear models to perform classification and regression tasks. You will also be asked to describe the process by which you came up with the code. More details can be found below. Please cite any websites or AI tools that you used to help you with this assignment."
   ]
  },
  {
   "cell_type": "markdown",
   "id": "f7c6de86",
   "metadata": {},
   "source": [
    "## Part 1: Classification (20 marks)\n",
    "\n",
    "You have been asked to develop code that can help the user determine if the email they have received is spam or not. Following the machine learning workflow described in class, write the relevant code in each of the steps below:"
   ]
  },
  {
   "cell_type": "markdown",
   "id": "cf275ca7",
   "metadata": {},
   "source": [
    "### Step 0: Import Libraries"
   ]
  },
  {
   "cell_type": "code",
   "execution_count": 1,
   "id": "2b67a661",
   "metadata": {},
   "outputs": [],
   "source": [
    "import numpy as np\n",
    "import pandas as pd\n",
    "import matplotlib.pyplot as plt\n",
    "import seaborn as sns"
   ]
  },
  {
   "cell_type": "code",
   "execution_count": 2,
   "id": "c38f746a",
   "metadata": {},
   "outputs": [],
   "source": [
    "import warnings\n",
    "warnings.filterwarnings('ignore') #ignoring some deprication warnings"
   ]
  },
  {
   "cell_type": "markdown",
   "id": "5f9d33a8",
   "metadata": {},
   "source": [
    "### Step 1: Data Input (1 mark)\n",
    "\n",
    "The data used for this task can be imported using the yellowbrick library: \n",
    "https://www.scikit-yb.org/en/latest/api/datasets/spam.html\n",
    "\n",
    "Use the yellowbrick function `load_spam()` to load the spam dataset into the feature matrix `X` and target vector `y`.\n",
    "\n",
    "Print the size and type of `X` and `y`."
   ]
  },
  {
   "cell_type": "code",
   "execution_count": 3,
   "id": "33583c67",
   "metadata": {},
   "outputs": [
    {
     "name": "stdout",
     "output_type": "stream",
     "text": [
      "X: type=<class 'pandas.core.frame.DataFrame'>, shape=(4600, 57)\n",
      "y: type=<class 'pandas.core.series.Series'>, shape=(4600,)\n"
     ]
    }
   ],
   "source": [
    "# TO DO: Import spam dataset from yellowbrick library (0.5 marks)\n",
    "import yellowbrick\n",
    "from yellowbrick.datasets import load_spam\n",
    "\n",
    "# TO DO: Print the size of X and y (0.5 marks)\n",
    "X, y = load_spam()\n",
    "\n",
    "print(f\"X: type={type(X)}, shape={X.shape}\")\n",
    "print(f\"y: type={type(y)}, shape={y.shape}\")"
   ]
  },
  {
   "cell_type": "markdown",
   "id": "156db208",
   "metadata": {},
   "source": [
    "### Step 2: Data Processing (2 marks)\n",
    "\n",
    "Check to see if there are any missing values in the dataset. If necessary, select an appropriate method to fill-in the missing values."
   ]
  },
  {
   "cell_type": "code",
   "execution_count": 6,
   "id": "4e7204f5",
   "metadata": {},
   "outputs": [
    {
     "name": "stdout",
     "output_type": "stream",
     "text": [
      "Missing values in X: 0\n",
      "Missing values in y: 0\n"
     ]
    }
   ],
   "source": [
    "# TO DO: Check if there are any missing values and fill them in if necessary (1 mark)\n",
    "print(f\"Missing values in X: {X.isnull().sum().sum()}\")\n",
    "print(f\"Missing values in y: {y.isnull().sum().sum()}\")"
   ]
  },
  {
   "cell_type": "markdown",
   "id": "a489285a",
   "metadata": {},
   "source": [
    "For this task, we want to test if the linear model would still work if we used less data. Use the `train_test_split` function from sklearn to create a new feature matrix named `X_small` and a new target vector named `y_small` that contain **5%** of the data. Use `random_state=0`."
   ]
  },
  {
   "cell_type": "code",
   "execution_count": 9,
   "id": "f9bc4a23",
   "metadata": {},
   "outputs": [
    {
     "name": "stdout",
     "output_type": "stream",
     "text": [
      "X_small: type=<class 'pandas.core.frame.DataFrame'>, shape=(230, 57)\n",
      "y_small: type=<class 'pandas.core.series.Series'>, shape=(230,)\n"
     ]
    }
   ],
   "source": [
    "from sklearn.model_selection import train_test_split\n",
    "#  TO DO: Create X_small and y_small (1 mark)\n",
    "\n",
    "X_small, _, y_small, _ = train_test_split(X, y, test_size=0.95, random_state=0)\n",
    "\n",
    "print(f\"X_small: type={type(X_small)}, shape={X_small.shape}\")\n",
    "print(f\"y_small: type={type(y_small)}, shape={y_small.shape}\")"
   ]
  },
  {
   "cell_type": "markdown",
   "id": "70e6c46f",
   "metadata": {},
   "source": [
    "### Step 3: Implement Machine Learning Model\n",
    "\n",
    "1. Import `LogisticRegression` from sklearn\n",
    "2. Instantiate model `LogisticRegression(max_iter=2000)`\n",
    "3. Implement the machine learning model with three different datasets: \n",
    "    - `X` and `y`\n",
    "    - Only first two columns of `X` and `y`\n",
    "    - `X_small` and `y_small`"
   ]
  },
  {
   "cell_type": "markdown",
   "id": "0870b0d2",
   "metadata": {},
   "source": [
    "### Step 4: Validate Model \n",
    "\n",
    "Calculate the training, validation and testing accuracies for the three different tests implemented in Step 3. For this case, you can use `cross_validate()` with `cv=5` and `scoring='accuracy'` to get the training and validation accuracies for each of the three datasets. For the testing set, you can use 10% of the data, split with `random_state=0`."
   ]
  },
  {
   "cell_type": "markdown",
   "id": "bb0bbd83",
   "metadata": {},
   "source": [
    "### Step 5.1: Visualize Results (3 marks)\n",
    "\n",
    "1. Create a pandas DataFrame `results` with columns: Data size, training accuracy, validation accuracy and testing accuracy\n",
    "2. Add the data size, training accuracy and validation accuracy for each dataset to the `results` DataFrame\n",
    "3. Print `results`"
   ]
  },
  {
   "cell_type": "code",
   "execution_count": 20,
   "id": "be4b5c0a",
   "metadata": {},
   "outputs": [
    {
     "name": "stdout",
     "output_type": "stream",
     "text": [
      "Model score on full dataset: 0.9319565217391305\n",
      "Model score on first two columns: 0.616304347826087\n",
      "Model score on small dataset: 0.9434782608695652\n",
      "           Data size                                  Training accuracy  \\\n",
      "0       Full dataset  [0.927536231884058, 0.9266304347826086, 0.9320...   \n",
      "1  First two columns  [0.6105072463768116, 0.615036231884058, 0.6147...   \n",
      "2      Small dataset  [0.9510869565217391, 0.9510869565217391, 0.961...   \n",
      "\n",
      "                                 Validation accuracy  Testing accuracy  \n",
      "0  [0.928743961352657, 0.9263285024154589, 0.9239...          0.941304  \n",
      "1  [0.6195652173913043, 0.6147342995169082, 0.612...          0.591304  \n",
      "2  [0.8695652173913043, 0.9130434782608695, 0.804...          0.905721  \n"
     ]
    }
   ],
   "source": [
    "# TO DO: ADD YOUR CODE HERE FOR STEPS 3-5\n",
    "# HINT: USING A LOOP TO STORE THE DATA IN YOUR RESULTS DATAFRAME WILL BE MORE EFFICIENT\n",
    "#Step 3\n",
    "from sklearn.linear_model import LogisticRegression\n",
    "\n",
    "model = LogisticRegression(max_iter=2000)\n",
    "\n",
    "model.fit(X,y)\n",
    "print(f\"Model score on full dataset: {model.score(X, y)}\")\n",
    "\n",
    "model.fit(X.iloc[:, :2], y)\n",
    "print(f\"Model score on first two columns: {model.score(X.iloc[:, :2], y)}\")\n",
    "\n",
    "model.fit(X_small, y_small)\n",
    "print(f\"Model score on small dataset: {model.score(X_small, y_small)}\")\n",
    "\n",
    "#Step 4\n",
    "from sklearn.model_selection import cross_validate\n",
    "\n",
    "datasets = []\n",
    "\n",
    "# Full dataset\n",
    "X_train_full, X_test_full, y_train_full, y_test_full = train_test_split(X, y, test_size=0.10, random_state=0)\n",
    "cv_results = cross_validate(model, X_train_full, y_train_full, cv=5, scoring='accuracy', return_train_score=True)\n",
    "model.fit(X_train_full, y_train_full)\n",
    "score = model.score(X_test_full, y_test_full)\n",
    "datasets.append(('Full dataset', cv_results['train_score'], cv_results['test_score'], score))\n",
    "\n",
    "# First two columns\n",
    "X_train, X_test, y_train, y_test = train_test_split(X.iloc[:, :2], y, test_size=0.10, random_state=0)\n",
    "cv_results = cross_validate(model, X_train, y_train, cv=5, scoring='accuracy', return_train_score=True)\n",
    "model.fit(X_train, y_train)\n",
    "score = model.score(X_test, y_test)\n",
    "datasets.append(('First two columns', cv_results['train_score'], cv_results['test_score'], score))\n",
    "\n",
    "# Small dataset\n",
    "X_train, X_test, y_train, y_test = train_test_split(X, y, test_size=0.95, random_state=0) # Resplit the data\n",
    "cv_results = cross_validate(model, X_train, y_train, cv=5, scoring='accuracy', return_train_score=True)\n",
    "model.fit(X_train, y_train)\n",
    "score = model.score(X_test, y_test)\n",
    "datasets.append(('Small dataset', cv_results['train_score'], cv_results['test_score'], score))\n",
    "\n",
    "results = pd.DataFrame(columns=['Data size', 'Training accuracy', 'Validation accuracy', 'Testing accuracy'])\n",
    "\n",
    "# Loop through datasets and store results\n",
    "for name, train_acc, val_acc, test_acc in datasets:\n",
    "    results = pd.concat([results, pd.DataFrame({\n",
    "        'Data size': [name],\n",
    "        'Training accuracy': [train_acc],\n",
    "        'Validation accuracy': [val_acc],\n",
    "        'Testing accuracy': [test_acc]\n",
    "    })], ignore_index=True)\n",
    "\n",
    "# Print the results DataFrame\n",
    "print(results)"
   ]
  },
  {
   "cell_type": "markdown",
   "id": "cf13a54f",
   "metadata": {},
   "source": [
    "### Step 5.2: Visualize Classification Errors (2 marks)"
   ]
  },
  {
   "cell_type": "markdown",
   "id": "6022252f",
   "metadata": {},
   "source": [
    "In this section, print the confusion matrix to investigate the number of false positives vs. false negatives for the testing data. Use the full dataset for this analysis."
   ]
  },
  {
   "cell_type": "code",
   "execution_count": 23,
   "id": "81931e5f",
   "metadata": {},
   "outputs": [],
   "source": [
    "# TO DO: Retrieve target vector and predicted values for validation set using full dataset (1 mark)\n",
    "from sklearn.model_selection import cross_val_predict\n",
    "\n",
    "y_pred = cross_val_predict(model, X_train_full, y_train_full, cv=5)\n",
    "y_target = y_train_full"
   ]
  },
  {
   "cell_type": "code",
   "execution_count": 30,
   "id": "e4cb30f1",
   "metadata": {},
   "outputs": [
    {
     "data": {
      "text/plain": [
       "<Axes: >"
      ]
     },
     "execution_count": 30,
     "metadata": {},
     "output_type": "execute_result"
    },
    {
     "data": {
      "image/png": "[encoded data removed]",
      "text/plain": [
       "<Figure size 800x550 with 2 Axes>"
      ]
     },
     "metadata": {},
     "output_type": "display_data"
    }
   ],
   "source": [
    "# TO DO: Print confusion matrix using a heatmap (1 mark)\n",
    "# HINT: To remove scientific notation from a heatmap, set the parameter fmt='d'\n",
    "\n",
    "from sklearn.metrics import confusion_matrix\n",
    "\n",
    "cm = confusion_matrix(y_target, y_pred)\n",
    "sns.heatmap(cm, annot=True, fmt='d')"
   ]
  },
  {
   "cell_type": "code",
   "execution_count": null,
   "id": "81007e30",
   "metadata": {},
   "outputs": [],
   "source": []
  },
  {
   "cell_type": "code",
   "execution_count": null,
   "id": "b8c64961",
   "metadata": {},
   "outputs": [],
   "source": []
  },
  {
   "cell_type": "markdown",
   "id": "bf319621",
   "metadata": {},
   "source": [
    "### Questions (8 marks)\n",
    "1. How do the training and validation accuracy change depending on the amount of data used? Explain with values.\n",
    "1. Why do the training and validation accuracy behave this way when the amount of data is changed? Relate your answer to concepts discussed in class.\n",
    "1. Was any randomness included in this analysis? If yes, what step(s) introduced the randomness? What impact could this have on the results?\n",
    "1. In this case, what do a false positive and a false negative represent? Which one is worse?\n",
    "\n",
    " - 1. Using full dataset allows the model to access the most information, having higher training and validation accuracies, the training and validation accuracy in the full dataset is on average around 93%. While using only the first two columns to provide the model it reduces the information available giving us lower accuracies around an average for both training and validation accuracy of 61.5%. Using the small dataset and all columns provides less information but provides all columns it still gives a fairly high training accuracy of around 95% but gives us a lower validation accuracy of around 85% due to the limited amount of data which can lead to overfitting.\n",
    " - 2. The accuracies behaviour can be explained wiht overfitting, undefitting, and bias-variance trade off. Firstly using the full data set has a good balance between bias and variance due to use of full dataset proving a higher accuracy. In the use of only the first 2 columns the model may be underfitting as it lacks a significant amount of the dataset to make accurate predictions due to the simplicity of using only 2 columns, which this model provides a high bias and a low variance. With the smaller dataset, since it has a higher training score and a lower validation score, it demonstrates a high-variance model, since it has access to all of the features but lacks the amount of data the model tends to overfit the data leading to poor generalization of unseen data.\n",
    " - 3. Yes randomness was included in the analysis, it was used in step 3 and 4, the train_test_split function is used for randomness and random_state parameter was used to control the randomness of the split to allow the split to be reproducible. The impact leads variability in training, validation, and testing accuracies, with different splits in the data resulint in different models being trained. Randomness also helps accessing the model's ability to guess data, by using different splits and folds.\n",
    " - 4. Since we are looking at spam, a false would represent that the model predicted that it was spam while it is not spam, and a false negative represents actual spam but it was predicted not to be spam. In this context a false negative could be worse as some spam emails can be security risks such as phishing attacks and can have a risk to the user, and receiving spam emails can lead to distrust in an email filtering system.\n"
   ]
  },
  {
   "cell_type": "markdown",
   "id": "664ff8ae",
   "metadata": {},
   "source": [
    "### Process Description (4 marks)\n",
    "Please describe the process you used to create your code. Cite any websites or generative AI tools used. You can use the following questions as guidance:\n",
    "1. Where did you source your code?\n",
    "1. In what order did you complete the steps?\n",
    "1. If you used generative AI, what prompts did you use? Did you need to modify the code at all? Why or why not?\n",
    "1. Did you have any challenges? If yes, what were they? If not, what helped you to be successful?"
   ]
  },
  {
   "cell_type": "markdown",
   "id": "d0e837da",
   "metadata": {},
   "source": [
    "For sourcing my code I relied on class examples and slides, as well as technical documentation from sklearn to help me produce my code. I completed every step in order, as a lot of dependencies arised from each step. I used generative AI for helping in the use of functions from imported libraries to help me understand parameters and how it should be placed in order. The prompts I used was: \"How to extract scores from the cross_validate function\". Which helped with the display of the results. As well as helping concatenate to the results Dataframe with the prompt: \"Iterate through datasets and add to results\". Which then added my datasets to results. I had some challenges understanding concepts such as the discrepancies in the training and validation accuracy and after looking at the notes it helped me with a deeper understanding of what is occuring."
   ]
  },
  {
   "cell_type": "markdown",
   "id": "5ee2d2c3",
   "metadata": {},
   "source": [
    "## Part 2: Regression (18 marks)\n",
    "\n",
    "For this section, we will be using the auto-mpg dataset from Lab 2. You will need to repeat the steps from Part 1 for this analysis."
   ]
  },
  {
   "cell_type": "markdown",
   "id": "8219f163",
   "metadata": {},
   "source": [
    "### Step 1: Data Input (0.5 marks)\n",
    "\n",
    "The data used for this task can be downloaded from UCI website: https://archive.ics.uci.edu/ml/datasets/Auto%2BMPG \n",
    "\n",
    "Load the auto-mpg dataset and inspect the first few rows"
   ]
  },
  {
   "cell_type": "code",
   "execution_count": null,
   "id": "2af8bd32",
   "metadata": {},
   "outputs": [],
   "source": [
    "# TO DO: Import auto-mpg data and inspect the first few rows (0.5 marks)\n"
   ]
  },
  {
   "cell_type": "markdown",
   "id": "42fea4cc",
   "metadata": {},
   "source": [
    "### Step 2: Data Processing (2.5 marks)\n",
    "\n",
    "Check to see if there are any missing values in the dataset. If necessary, select an appropriate method to fill-in the missing values."
   ]
  },
  {
   "cell_type": "code",
   "execution_count": null,
   "id": "06fc9c0f",
   "metadata": {},
   "outputs": [],
   "source": [
    "# TO DO: Check if there are any missing values and fill them in if necessary (1 mark)\n"
   ]
  },
  {
   "cell_type": "markdown",
   "id": "04475f0a",
   "metadata": {},
   "source": [
    "Remove any columns that do not have numerical data."
   ]
  },
  {
   "cell_type": "code",
   "execution_count": null,
   "id": "38fee994",
   "metadata": {},
   "outputs": [],
   "source": [
    "# TO DO: Remove non-numeric data (0.5 marks)\n"
   ]
  },
  {
   "cell_type": "markdown",
   "id": "c8df0b2a",
   "metadata": {},
   "source": [
    "Split the auto-mpg data into the feature matrix and target vector. Inspect the first few columns of the feature matrix to make sure it split properly."
   ]
  },
  {
   "cell_type": "code",
   "execution_count": null,
   "id": "413e466e",
   "metadata": {},
   "outputs": [],
   "source": [
    "# TO DO: Create feature matrix and target vector (1 mark) \n"
   ]
  },
  {
   "cell_type": "markdown",
   "id": "2a245d00",
   "metadata": {},
   "source": [
    "### Step 3: Implement and Validate Machine Learning Model (2.5 marks)\n",
    "\n",
    "1. Import any required libraries\n",
    "1. Split the data into training and testing sets (testing data should be 10% of the dataset)\n",
    "1. Instantiate model `LinearRegression()`\n",
    "1. Train and validate the machine learning model using the training set (using `cross_validate()` with `cv=5` and `scoring='r2'`)\n",
    "1. Print the training and validation accuracy "
   ]
  },
  {
   "cell_type": "code",
   "execution_count": null,
   "id": "ba4da0b9",
   "metadata": {},
   "outputs": [],
   "source": [
    "# TO DO: ADD YOUR CODE HERE\n",
    "# Note: for any random state parameters, you can use random_state = 0\n"
   ]
  },
  {
   "cell_type": "markdown",
   "id": "3f994e31",
   "metadata": {},
   "source": [
    "### Step 4: Test Model (1 mark)\n",
    "\n",
    "Calculate the testing accuracy using the R^2 score"
   ]
  },
  {
   "cell_type": "code",
   "execution_count": null,
   "id": "fdc93a78",
   "metadata": {},
   "outputs": [],
   "source": [
    "# TO DO: ADD YOUR CODE HERE\n"
   ]
  },
  {
   "cell_type": "markdown",
   "id": "5fc3f7a8",
   "metadata": {},
   "source": [
    "### Step 5: Visualize Results (1.5 marks)\n",
    "\n",
    "1. Plot the relationship between each of the features and the target vector using `pairplot`\n",
    "1. Plot the correlation matrix\n",
    "1. Print the coefficients for each feature and the intercept"
   ]
  },
  {
   "cell_type": "code",
   "execution_count": null,
   "id": "0546cfb7",
   "metadata": {},
   "outputs": [],
   "source": [
    "# TO DO: Plot pairplot (0.5 marks)\n"
   ]
  },
  {
   "cell_type": "code",
   "execution_count": null,
   "id": "773cfd4e",
   "metadata": {},
   "outputs": [],
   "source": [
    "# TO DO: Plot correlation matrix (0.5 marks)\n"
   ]
  },
  {
   "cell_type": "code",
   "execution_count": null,
   "id": "59ae0f09",
   "metadata": {},
   "outputs": [],
   "source": [
    "# TO DO: Print model coefficients and intercept (0.5 marks)\n"
   ]
  },
  {
   "cell_type": "markdown",
   "id": "a5257a98",
   "metadata": {},
   "source": [
    "### Questions (6 marks)\n",
    "1. Did using a linear model produce good results for this dataset? Why or why not?\n",
    "1. Do the coefficients for each of the features make sense when compared to the `pairplot` and the correlation matrix? Why or why not?\n",
    "1. If you repeat this analysis with ridge regression, do the results change significantly? What do you think is the cause of these (changed or unchanged) results?\n",
    "\n",
    "*ANSWER HERE*"
   ]
  },
  {
   "cell_type": "markdown",
   "id": "37b238f4",
   "metadata": {},
   "source": [
    "### Process Description (4 marks)\n",
    "Please describe the process you used to create your code. Cite any websites or generative AI tools used. You can use the following questions as guidance:\n",
    "1. Where did you source your code?\n",
    "1. In what order did you complete the steps?\n",
    "1. If you used generative AI, what prompts did you use? Did you need to modify the code at all? Why or why not?\n",
    "1. Did you have any challenges? If yes, what were they? If not, what helped you to be successful?"
   ]
  },
  {
   "cell_type": "markdown",
   "id": "93097bfe",
   "metadata": {},
   "source": [
    "*DESCRIBE YOUR PROCESS HERE - BE SPECIFIC*"
   ]
  },
  {
   "cell_type": "markdown",
   "id": "cd97b6ac",
   "metadata": {},
   "source": [
    "## Part 3: Reflection (2 marks)\n",
    "Include a sentence or two about:\n",
    "- what you liked or disliked,\n",
    "- found interesting, confusing, challenging, motivating\n",
    "while working on this assignment.\n",
    "\n",
    "\n",
    "*ADD YOUR THOUGHTS HERE*"
   ]
  },
  {
   "cell_type": "code",
   "execution_count": null,
   "id": "867c484f",
   "metadata": {},
   "outputs": [],
   "source": []
  }
 ],
 "metadata": {
  "kernelspec": {
   "display_name": "Python 3",
   "language": "python",
   "name": "python3"
  },
  "language_info": {
   "codemirror_mode": {
    "name": "ipython",
    "version": 3
   },
   "file_extension": ".py",
   "mimetype": "text/x-python",
   "name": "python",
   "nbconvert_exporter": "python",
   "pygments_lexer": "ipython3",
   "version": "3.12.1"
  }
 },
 "nbformat": 4,
 "nbformat_minor": 5
}
