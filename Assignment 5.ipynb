{
 "cells": [
  {
   "cell_type": "markdown",
   "id": "31a612c8",
   "metadata": {},
   "source": [
    "# Assignment 5: PCA and Neural Networks (50 marks)\n",
    "### Due: April 4 at 11:59pm \n",
    "\n",
    "### Name: "
   ]
  },
  {
   "cell_type": "code",
   "execution_count": 1,
   "id": "cb68ecd2",
   "metadata": {},
   "outputs": [],
   "source": [
    "import numpy as np\n",
    "import pandas as pd\n",
    "import matplotlib.pyplot as plt\n",
    "import seaborn as sns"
   ]
  },
  {
   "cell_type": "markdown",
   "id": "652ce757",
   "metadata": {},
   "source": [
    "## Part 1: Principle Component Analysis (PCA) (20 marks)"
   ]
  },
  {
   "cell_type": "markdown",
   "id": "9740443e",
   "metadata": {},
   "source": [
    "### Step 1. Load data (2 marks)\n",
    "\n",
    "You have been asked by an agricultural company to help them predict the type of wheat based on kernel characteristics. You have been given all the information you need in the seeds_dataset.txt file on D2L. The original dataset can be found [here](https://archive.ics.uci.edu/dataset/236/seeds)\n",
    "\n",
    "The first step is to read in the file using pandas and inspect the first few columns. Note that the data is in a text file, so the separator is different compared to a csv file."
   ]
  },
  {
   "cell_type": "code",
   "execution_count": null,
   "id": "b23df533",
   "metadata": {},
   "outputs": [
    {
     "name": "stdout",
     "output_type": "stream",
     "text": [
      "       0      1       2      3      4      5      6  7\n",
      "0  15.26  14.84  0.8710  5.763  3.312  2.221  5.220  1\n",
      "1  14.88  14.57  0.8811  5.554  3.333  1.018  4.956  1\n",
      "2  14.29  14.09  0.9050  5.291  3.337  2.699  4.825  1\n",
      "3  13.84  13.94  0.8955  5.324  3.379  2.259  4.805  1\n",
      "4  16.14  14.99  0.9034  5.658  3.562  1.355  5.175  1\n"
     ]
    }
   ],
   "source": [
    "# TO DO: Import dataset and inspect the first few columns (1 mark)\n",
    "data = pd.read_csv('seeds_dataset.txt', sep='\\t', header=None)\n",
    "# Inspect the first few rows\n",
    "print(data.head())"
   ]
  },
  {
   "cell_type": "markdown",
   "id": "c0e47059",
   "metadata": {},
   "source": [
    "Next, you will need to separate the data into your feature matrix and target vector."
   ]
  },
  {
   "cell_type": "code",
   "execution_count": null,
   "id": "ec3f7bb5",
   "metadata": {},
   "outputs": [
    {
     "name": "stdout",
     "output_type": "stream",
     "text": [
      "Shape of X: (210, 7)\n",
      "Shape of y: (210,)\n"
     ]
    }
   ],
   "source": [
    "# TO DO: Separate the data into feature matrix and target vector. Print the shape of X and y (1 mark)\n",
    "X = data.iloc[:, :-1]  # Feature matrix\n",
    "y = data.iloc[:, -1]   # Target vector\n",
    "print(f'Shape of X: {X.shape}')\n",
    "print(f'Shape of y: {y.shape}')"
   ]
  },
  {
   "cell_type": "markdown",
   "id": "4781acec",
   "metadata": {},
   "source": [
    "### Steps 2+3: Preprocessing and Model Selection (3 marks)\n",
    "\n",
    "The first step is to split the data into training and testing sets."
   ]
  },
  {
   "cell_type": "code",
   "execution_count": null,
   "id": "8b3930b1",
   "metadata": {},
   "outputs": [
    {
     "name": "stdout",
     "output_type": "stream",
     "text": [
      "Training set size: 189\n",
      "Test set size: 21\n"
     ]
    }
   ],
   "source": [
    "# TO DO: Split the data into training and testing sets using 10% for test set (1 mark)\n",
    "from sklearn.model_selection import train_test_split\n",
    "X_train, X_test, y_train, y_test = train_test_split(X, y, test_size=0.1, random_state=0)\n",
    "print(f'Training set size: {X_train.shape[0]}')\n",
    "print(f'Test set size: {X_test.shape[0]}')"
   ]
  },
  {
   "cell_type": "markdown",
   "id": "fd4d4b84",
   "metadata": {},
   "source": [
    "Now that we have our training data, we need to decide which preprocessing methods to use. Since we do not want any information leaking into the model validation stage, we will need to create a Pipeline. For this case, our model for the Pipeline is `Logistic Regression(max_iter=1000)`."
   ]
  },
  {
   "cell_type": "code",
   "execution_count": null,
   "id": "d208794d",
   "metadata": {},
   "outputs": [],
   "source": [
    "# TO DO: Setup required preprocessing method(s) and model (1 mark)\n",
    "from sklearn.preprocessing import StandardScaler\n",
    "from sklearn.linear_model import LogisticRegression\n",
    "from sklearn.pipeline import Pipeline\n",
    "# Preprocessing and model setup\n",
    "scaler = StandardScaler()\n",
    "model = LogisticRegression(max_iter=1000)"
   ]
  },
  {
   "cell_type": "code",
   "execution_count": null,
   "id": "79916456",
   "metadata": {},
   "outputs": [],
   "source": [
    "# TO DO: Setup pipeline (1 mark)\n",
    "pipeline = Pipeline([\n",
    "    ('scaler', scaler),\n",
    "    ('classifier', model)\n",
    "])"
   ]
  },
  {
   "cell_type": "markdown",
   "id": "44a64649",
   "metadata": {},
   "source": [
    "### Step 4: Validation (2 marks)\n",
    "\n",
    "To validate the results, we need to use cross-validation. To make sure we are using the best hyperparmeters, we can use a grid search. The parameter grid has been provided below."
   ]
  },
  {
   "cell_type": "code",
   "execution_count": null,
   "id": "f63702f0",
   "metadata": {},
   "outputs": [],
   "source": [
    "param_grid = [{'classifier': [LogisticRegression(max_iter=1000)],\n",
    "              'classifier__C': [0.01, 0.1, 1.0, 10.0, 100],\n",
    "              'classifier__fit_intercept': [True, False]}]"
   ]
  },
  {
   "cell_type": "code",
   "execution_count": null,
   "id": "6b8c133e",
   "metadata": {},
   "outputs": [
    {
     "name": "stdout",
     "output_type": "stream",
     "text": [
      "Best parameters: {'classifier': LogisticRegression(max_iter=1000), 'classifier__C': 100, 'classifier__fit_intercept': False}\n",
      "Training score: 0.9630156472261735\n",
      "Test score: 0.9523809523809523\n"
     ]
    }
   ],
   "source": [
    "#TO DO: Implement the grid search and print the best parameters, training score, cross-validation score and test score (2 marks)\n",
    "from sklearn.model_selection import GridSearchCV\n",
    "# Perform grid search\n",
    "grid_search = GridSearchCV(pipeline, param_grid, cv=5, scoring='accuracy')\n",
    "grid_search.fit(X_train, y_train)\n",
    "# Print results\n",
    "print(f'Best parameters: {grid_search.best_params_}')\n",
    "print(f'Training score: {grid_search.best_score_}')\n",
    "print(f'Test score: {grid_search.score(X_test, y_test)}')"
   ]
  },
  {
   "cell_type": "markdown",
   "id": "9a298fad",
   "metadata": {},
   "source": [
    "### Step 5: Visualize using PCA (5 marks)\n",
    "\n",
    "Now you can visualize the results from Step 4 using PCA. Use the best parameters from the previous step to predict the label for the testing data. For the plot, each data point must be colored based on the class label."
   ]
  },
  {
   "cell_type": "code",
   "execution_count": null,
   "id": "5a4a7fc7",
   "metadata": {},
   "outputs": [],
   "source": [
    "# TO DO: Predict target vector labels using best estimator (1 mark)\n",
    "best_model = grid_search.best_estimator_\n",
    "y_pred = best_model.predict(X_test)"
   ]
  },
  {
   "cell_type": "code",
   "execution_count": null,
   "id": "91b40f81",
   "metadata": {},
   "outputs": [],
   "source": [
    "# TO DO: Reduce dimensions of test data for plotting (2 marks)\n",
    "from sklearn.decomposition import PCA\n",
    "# Reduce dimensions for visualization\n",
    "pca = PCA(n_components=2)\n",
    "X_test_pca = pca.fit_transform(X_test)"
   ]
  },
  {
   "cell_type": "code",
   "execution_count": null,
   "id": "fec7570c",
   "metadata": {},
   "outputs": [
    {
     "data": {
      "image/png": "[encoded data removed]",
      "text/plain": [
       "<Figure size 800x600 with 2 Axes>"
      ]
     },
     "metadata": {},
     "output_type": "display_data"
    }
   ],
   "source": [
    "# TO DO: Plot test points colored by predicted label (2 marks)\n",
    "plt.figure(figsize=(8, 6))\n",
    "scatter = plt.scatter(X_test_pca[:, 0], X_test_pca[:, 1], c=y_pred, cmap='viridis')\n",
    "plt.colorbar(scatter, label='Predicted Label')\n",
    "plt.xlabel('Principal Component 1')\n",
    "plt.ylabel('Principal Component 2')\n",
    "plt.title('PCA Visualization of Test Data')\n",
    "plt.show()"
   ]
  },
  {
   "cell_type": "markdown",
   "id": "b865f80b",
   "metadata": {},
   "source": [
    "### Questions (4 marks)\n",
    "\n",
    "1. Did the logistic regression model work well for this dataset? Why would you make this conclusion? \n",
    "1. Did PCA work well for this model? How does this relate to the results from the model used? \n",
    "\n",
    "- 1. Yes the logistic regression model worked well for this dataset because of it's high accuracy on both training and testing score showing good performance and generalization.\n",
    "- 2. Yes, the PCA worked well as it helped reduced the dimensionality while preserving separability of the classes, which helps support the logistic regression model's performance."
   ]
  },
  {
   "cell_type": "markdown",
   "id": "6f81b972",
   "metadata": {},
   "source": [
    "### Process Description (4 marks)\n",
    "Please describe the process you used to create your code. Cite any websites or generative AI tools used. You can use the following questions as guidance:\n",
    "1. Where did you source your code?\n",
    "1. In what order did you complete the steps?\n",
    "1. If you used generative AI, what prompts did you use? Did you need to modify the code at all? Why or why not?\n",
    "1. Did you have any challenges? If yes, what were they? If not, what helped you to be successful?\n",
    "\n",
    "- The code was sources using a mix of course materials, documentation and generative AI. Steps were completed in order such as data preprocessing, model training, evaluation and visualization. Prompts used with generative AI were used for implementing logistic regression, PCA, and helping with evaluation metrics. Changes were made to fit the projects requirements and fit the dataset. There weren't many challenges in this part as the instructions given were pretty straight forward and the process with that were as well."
   ]
  },
  {
   "cell_type": "markdown",
   "id": "8ed521fc",
   "metadata": {},
   "source": [
    "## Part 2: Neural Networks (28 marks)\n",
    "\n",
    "For this assignment, you will be practicing using scikit-learn and TensorFlow to implement basic neural networks (MLP). The dataset we will be using is the energy dataset from Yellowbrick (https://www.scikit-yb.org/en/latest/api/datasets/energy.html)."
   ]
  },
  {
   "cell_type": "markdown",
   "id": "c4c16745",
   "metadata": {},
   "source": [
    "### Step 1: Load data (1 mark)\n",
    "\n",
    "You will need to load the file and split it into the feature matrix and target vector. Note that this dataset has two targets, heating load and cooling load. To retrieve the single target dataset, you need `return_dataset=False`. "
   ]
  },
  {
   "cell_type": "code",
   "execution_count": null,
   "id": "f39d53a1",
   "metadata": {},
   "outputs": [
    {
     "name": "stdout",
     "output_type": "stream",
     "text": [
      "Shape of X: (768, 8)\n",
      "Shape of y: (768,)\n"
     ]
    }
   ],
   "source": [
    "# TO DO: Load dataset into feature matrix and target vector (1 mark)\n",
    "from yellowbrick.datasets import load_energy\n",
    "# Load energy dataset\n",
    "X, y = load_energy(return_dataset=False)\n",
    "print(f'Shape of X: {X.shape}')\n",
    "print(f'Shape of y: {y.shape}')"
   ]
  },
  {
   "cell_type": "markdown",
   "id": "2f706755",
   "metadata": {},
   "source": [
    "### Step 2: Process your dataset (6 marks)"
   ]
  },
  {
   "cell_type": "code",
   "execution_count": null,
   "id": "f546a661",
   "metadata": {},
   "outputs": [
    {
     "name": "stdout",
     "output_type": "stream",
     "text": [
      "relative compactness         0\n",
      "surface area                 0\n",
      "wall area                    0\n",
      "roof area                    0\n",
      "overall height               0\n",
      "orientation                  0\n",
      "glazing area                 0\n",
      "glazing area distribution    0\n",
      "dtype: int64\n"
     ]
    }
   ],
   "source": [
    "# TO DO: Check if there are any missing values - if yes, decide how to fill them (1 mark)\n",
    "print(X.isnull().sum())"
   ]
  },
  {
   "cell_type": "code",
   "execution_count": null,
   "id": "55a1b3fe",
   "metadata": {},
   "outputs": [
    {
     "name": "stdout",
     "output_type": "stream",
     "text": [
      "relative compactness         float64\n",
      "surface area                 float64\n",
      "wall area                    float64\n",
      "roof area                    float64\n",
      "overall height               float64\n",
      "orientation                    int64\n",
      "glazing area                 float64\n",
      "glazing area distribution      int64\n",
      "dtype: object\n",
      "relative compactness         12\n",
      "surface area                 12\n",
      "wall area                     7\n",
      "roof area                     4\n",
      "overall height                2\n",
      "orientation                   4\n",
      "glazing area                  4\n",
      "glazing area distribution     6\n",
      "dtype: int64\n",
      "Data Types:\n",
      "relative compactness         float64\n",
      "surface area                 float64\n",
      "wall area                    float64\n",
      "roof area                    float64\n",
      "overall height               float64\n",
      "orientation                    int64\n",
      "glazing area                 float64\n",
      "glazing area distribution      int64\n",
      "dtype: object\n",
      "\n",
      "Number of Unique Values:\n",
      "relative compactness         12\n",
      "surface area                 12\n",
      "wall area                     7\n",
      "roof area                     4\n",
      "overall height                2\n",
      "orientation                   4\n",
      "glazing area                  4\n",
      "glazing area distribution     6\n",
      "dtype: int64\n",
      "\n",
      "No encoding is necessary as there are no categorical columns.\n"
     ]
    }
   ],
   "source": [
    "# TO DO: Check data type for each column and the number of unique values - do you need to encode any of them? (1 mark)\n",
    "print(X.dtypes)\n",
    "print(X.nunique())\n",
    "# No need to encode any columns as all are numeric"
   ]
  },
  {
   "cell_type": "code",
   "execution_count": 22,
   "id": "30488872",
   "metadata": {},
   "outputs": [
    {
     "name": "stdout",
     "output_type": "stream",
     "text": [
      "Feature Ranges:\n",
      "relative compactness           0.36\n",
      "surface area                 294.00\n",
      "wall area                    171.50\n",
      "roof area                    110.25\n",
      "overall height                 3.50\n",
      "orientation                    3.00\n",
      "glazing area                   0.40\n",
      "glazing area distribution      5.00\n",
      "dtype: float64\n",
      "Scaling is recommended as the feature ranges differ significantly.\n"
     ]
    }
   ],
   "source": [
    "# Display the range of each feature\n",
    "print(\"Feature Ranges:\")\n",
    "print(X.max() - X.min())\n",
    "\n",
    "# Check if scaling is needed\n",
    "if (X.max() - X.min()).max() > 1:\n",
    "    print(\"Scaling is recommended as the feature ranges differ significantly.\")\n",
    "else:\n",
    "    print(\"Scaling may not be necessary.\")"
   ]
  },
  {
   "cell_type": "code",
   "execution_count": null,
   "id": "505da56c",
   "metadata": {},
   "outputs": [],
   "source": [
    "# TO DO: Split your data into training and testing sets using 20% for test set (1 mark)\n",
    "X_train, X_test, y_train, y_test = train_test_split(X, y, test_size=0.2, random_state=0)"
   ]
  },
  {
   "cell_type": "code",
   "execution_count": null,
   "id": "84756a2d",
   "metadata": {},
   "outputs": [],
   "source": [
    "# TO DO: Implement scaling and/or encoding here if needed (2 marks for preprocessing properly or justifying why it isn't needed)\n",
    "scaler = StandardScaler()\n",
    "X_train_scaled = scaler.fit_transform(X_train)\n",
    "X_test_scaled = scaler.transform(X_test)\n",
    "# No encoding needed as all features are numeric"
   ]
  },
  {
   "cell_type": "markdown",
   "id": "606f158c",
   "metadata": {},
   "source": [
    "### Step 3: Implement Neural Network (MLP) (8 marks)\n",
    "\n",
    "### Part 1: Use scikit-learn (3 marks)\n",
    "\n",
    "For each case, you will need to find the predicted target values."
   ]
  },
  {
   "cell_type": "code",
   "execution_count": null,
   "id": "0c566105",
   "metadata": {},
   "outputs": [],
   "source": [
    "# TO DO: Test using default parameters and max_iter = 10000 (1 mark)\n",
    "from sklearn.neural_network import MLPRegressor\n",
    "mlp_default = MLPRegressor(max_iter=10000, random_state=0)\n",
    "mlp_default.fit(X_train_scaled, y_train)\n",
    "y_pred_default = mlp_default.predict(X_test_scaled)"
   ]
  },
  {
   "cell_type": "code",
   "execution_count": null,
   "id": "d5349975",
   "metadata": {},
   "outputs": [],
   "source": [
    "# TO DO: Test using two hidden layers with 100 nodes each (1 mark)\n",
    "mlp_two_layers = MLPRegressor(hidden_layer_sizes=(100, 100), max_iter=10000, random_state=0)\n",
    "mlp_two_layers.fit(X_train_scaled, y_train)\n",
    "y_pred_two_layers = mlp_two_layers.predict(X_test_scaled)"
   ]
  },
  {
   "cell_type": "code",
   "execution_count": null,
   "id": "ff8ed7cd",
   "metadata": {},
   "outputs": [],
   "source": [
    "# TO DO: Test using three hidden layers with 100 nodes each (1 mark)\n",
    "mlp_three_layers = MLPRegressor(hidden_layer_sizes=(100, 100, 100), max_iter=10000, random_state=0)\n",
    "mlp_three_layers.fit(X_train_scaled, y_train)\n",
    "y_pred_three_layers = mlp_three_layers.predict(X_test_scaled)"
   ]
  },
  {
   "cell_type": "markdown",
   "id": "32f3582c",
   "metadata": {},
   "source": [
    "### Part 2: Use TensorFlow (5 marks)"
   ]
  },
  {
   "cell_type": "code",
   "execution_count": 26,
   "id": "75c17195",
   "metadata": {},
   "outputs": [
    {
     "name": "stderr",
     "output_type": "stream",
     "text": [
      "2025-04-03 03:50:57.985432: I external/local_xla/xla/tsl/cuda/cudart_stub.cc:32] Could not find cuda drivers on your machine, GPU will not be used.\n",
      "2025-04-03 03:50:58.236428: I external/local_xla/xla/tsl/cuda/cudart_stub.cc:32] Could not find cuda drivers on your machine, GPU will not be used.\n",
      "2025-04-03 03:50:58.331792: E external/local_xla/xla/stream_executor/cuda/cuda_fft.cc:467] Unable to register cuFFT factory: Attempting to register factory for plugin cuFFT when one has already been registered\n",
      "WARNING: All log messages before absl::InitializeLog() is called are written to STDERR\n",
      "E0000 00:00:1743652258.407267    6454 cuda_dnn.cc:8579] Unable to register cuDNN factory: Attempting to register factory for plugin cuDNN when one has already been registered\n",
      "E0000 00:00:1743652258.432456    6454 cuda_blas.cc:1407] Unable to register cuBLAS factory: Attempting to register factory for plugin cuBLAS when one has already been registered\n",
      "W0000 00:00:1743652258.729255    6454 computation_placer.cc:177] computation placer already registered. Please check linkage and avoid linking the same target more than once.\n",
      "W0000 00:00:1743652258.729299    6454 computation_placer.cc:177] computation placer already registered. Please check linkage and avoid linking the same target more than once.\n",
      "W0000 00:00:1743652258.729303    6454 computation_placer.cc:177] computation placer already registered. Please check linkage and avoid linking the same target more than once.\n",
      "W0000 00:00:1743652258.729320    6454 computation_placer.cc:177] computation placer already registered. Please check linkage and avoid linking the same target more than once.\n",
      "2025-04-03 03:50:58.774197: I tensorflow/core/platform/cpu_feature_guard.cc:210] This TensorFlow binary is optimized to use available CPU instructions in performance-critical operations.\n",
      "To enable the following instructions: AVX2 FMA, in other operations, rebuild TensorFlow with the appropriate compiler flags.\n"
     ]
    }
   ],
   "source": [
    "import tensorflow as tf\n",
    "\n",
    "from tensorflow import keras\n",
    "from tensorflow.keras import layers"
   ]
  },
  {
   "cell_type": "markdown",
   "id": "aa8ef158",
   "metadata": {},
   "source": [
    "Instead of scaling the data using a scikit-learn scaler, you can scale the data using a normalization layer."
   ]
  },
  {
   "cell_type": "code",
   "execution_count": 29,
   "id": "ad79a75b",
   "metadata": {},
   "outputs": [
    {
     "name": "stderr",
     "output_type": "stream",
     "text": [
      "2025-04-03 03:51:44.282181: E external/local_xla/xla/stream_executor/cuda/cuda_platform.cc:51] failed call to cuInit: INTERNAL: CUDA error: Failed call to cuInit: UNKNOWN ERROR (303)\n"
     ]
    }
   ],
   "source": [
    "# TO DO: Define normalization layer (1 mark)\n",
    "X_train_array = np.array(X_train)\n",
    "\n",
    "# Define normalization layer\n",
    "normalizer = layers.Normalization()\n",
    "normalizer.adapt(X_train_array)"
   ]
  },
  {
   "cell_type": "markdown",
   "id": "ddae1a41",
   "metadata": {},
   "source": [
    "Using `keras.Sequential`, implement an MLP with the same hidden layer setups as above:"
   ]
  },
  {
   "cell_type": "code",
   "execution_count": 30,
   "id": "76e5197d",
   "metadata": {},
   "outputs": [
    {
     "data": {
      "text/plain": [
       "<keras.src.callbacks.history.History at 0x71376a5a71d0>"
      ]
     },
     "execution_count": 30,
     "metadata": {},
     "output_type": "execute_result"
    }
   ],
   "source": [
    "# TO DO: Implement MLP with one hidden layer with 100 nodes and the relu activation function (2 marks)\n",
    "# Compile the model with loss='mean_absolute_error' and optimizer=tf.keras.optimizers.Adam(0.001)\n",
    "# Fit the model using validation_split=0.2, verbose=0 and epochs=100\n",
    "model_one_layer = keras.Sequential([\n",
    "    normalizer,\n",
    "    layers.Dense(100, activation='relu'),\n",
    "    layers.Dense(1)\n",
    "])\n",
    "model_one_layer.compile(loss='mean_absolute_error', optimizer=tf.keras.optimizers.Adam(0.001))\n",
    "model_one_layer.fit(X_train, y_train, validation_split=0.2, verbose=0, epochs=100)"
   ]
  },
  {
   "cell_type": "code",
   "execution_count": 31,
   "id": "c03dea4f",
   "metadata": {},
   "outputs": [
    {
     "data": {
      "text/plain": [
       "<keras.src.callbacks.history.History at 0x713765b41e80>"
      ]
     },
     "execution_count": 31,
     "metadata": {},
     "output_type": "execute_result"
    }
   ],
   "source": [
    "# TO DO: Repeat with two hidden layers with 100 nodes each and the relu activation function (1 mark)\n",
    "model_two_layers = keras.Sequential([\n",
    "    normalizer,\n",
    "    layers.Dense(100, activation='relu'),\n",
    "    layers.Dense(100, activation='relu'),\n",
    "    layers.Dense(1)\n",
    "])\n",
    "model_two_layers.compile(loss='mean_absolute_error', optimizer=tf.keras.optimizers.Adam(0.001))\n",
    "model_two_layers.fit(X_train, y_train, validation_split=0.2, verbose=0, epochs=100)"
   ]
  },
  {
   "cell_type": "code",
   "execution_count": 32,
   "id": "72bd5a5b",
   "metadata": {},
   "outputs": [
    {
     "data": {
      "text/plain": [
       "<keras.src.callbacks.history.History at 0x71376430a930>"
      ]
     },
     "execution_count": 32,
     "metadata": {},
     "output_type": "execute_result"
    }
   ],
   "source": [
    "# TO DO: Repeat with three hidden layers with 100 nodes each and the relu activation function (1 mark)\n",
    "model_three_layers = keras.Sequential([\n",
    "    normalizer,\n",
    "    layers.Dense(100, activation='relu'),\n",
    "    layers.Dense(100, activation='relu'),\n",
    "    layers.Dense(100, activation='relu'),\n",
    "    layers.Dense(1)\n",
    "])\n",
    "model_three_layers.compile(loss='mean_absolute_error', optimizer=tf.keras.optimizers.Adam(0.001))\n",
    "model_three_layers.fit(X_train, y_train, validation_split=0.2, verbose=0, epochs=100)"
   ]
  },
  {
   "cell_type": "markdown",
   "id": "06cbabc6",
   "metadata": {},
   "source": [
    "### Step 4: Compare the accuracy of both methods (4 marks)\n",
    "\n",
    "For this part, calculate the mean absolute error for each model and print in a table using pandas"
   ]
  },
  {
   "cell_type": "code",
   "execution_count": 33,
   "id": "9c5c1b86",
   "metadata": {},
   "outputs": [
    {
     "name": "stdout",
     "output_type": "stream",
     "text": [
      "MAE (Default): 0.4369349654457015\n",
      "MAE (Two Layers): 1.8792832881301211\n",
      "MAE (Three Layers): 0.48261798497386504\n"
     ]
    }
   ],
   "source": [
    "# TO DO: Calculate the MAE for the three scikit-learn tests (1.5 marks)\n",
    "from sklearn.metrics import mean_absolute_error\n",
    "mae_default = mean_absolute_error(y_test, y_pred_default)\n",
    "mae_two_layers = mean_absolute_error(y_test, y_pred_two_layers)\n",
    "mae_three_layers = mean_absolute_error(y_test, y_pred_three_layers)\n",
    "print(f'MAE (Default): {mae_default}')\n",
    "print(f'MAE (Two Layers): {mae_two_layers}')\n",
    "print(f'MAE (Three Layers): {mae_three_layers}')"
   ]
  },
  {
   "cell_type": "code",
   "execution_count": 34,
   "id": "6b4f3926",
   "metadata": {},
   "outputs": [
    {
     "name": "stdout",
     "output_type": "stream",
     "text": [
      "MAE (One Layer - TF): 1.8782404661178589\n",
      "MAE (Two Layers - TF): 1.5791667699813843\n",
      "MAE (Three Layers - TF): 0.9666634202003479\n"
     ]
    }
   ],
   "source": [
    "# TO DO: Calculate the MAE for the three TensorFlow tests (1.5 marks)\n",
    "mae_one_layer_tf = model_one_layer.evaluate(X_test, y_test, verbose=0)\n",
    "mae_two_layers_tf = model_two_layers.evaluate(X_test, y_test, verbose=0)\n",
    "mae_three_layers_tf = model_three_layers.evaluate(X_test, y_test, verbose=0)\n",
    "print(f'MAE (One Layer - TF): {mae_one_layer_tf}')\n",
    "print(f'MAE (Two Layers - TF): {mae_two_layers_tf}')\n",
    "print(f'MAE (Three Layers - TF): {mae_three_layers_tf}')"
   ]
  },
  {
   "cell_type": "code",
   "execution_count": 35,
   "id": "62bf09ef",
   "metadata": {},
   "outputs": [
    {
     "name": "stdout",
     "output_type": "stream",
     "text": [
      "               Model       MAE\n",
      "0            Default  0.436935\n",
      "1         Two Layers  1.879283\n",
      "2       Three Layers  0.482618\n",
      "3     One Layer (TF)  1.878240\n",
      "4    Two Layers (TF)  1.579167\n",
      "5  Three Layers (TF)  0.966663\n"
     ]
    }
   ],
   "source": [
    "# TO DO: Print the results (1 mark)\n",
    "results = pd.DataFrame({\n",
    "    'Model': ['Default', 'Two Layers', 'Three Layers', 'One Layer (TF)', 'Two Layers (TF)', 'Three Layers (TF)'],\n",
    "    'MAE': [mae_default, mae_two_layers, mae_three_layers, mae_one_layer_tf, mae_two_layers_tf, mae_three_layers_tf]\n",
    "})\n",
    "print(results)"
   ]
  },
  {
   "cell_type": "markdown",
   "id": "ebae05b6",
   "metadata": {},
   "source": [
    "### Questions (5 marks)\n",
    "\n",
    "1. Which model produced the least amount of error?\n",
    "1. Do the results change if you run your code multiple times? Why or why not?\n",
    "1.  Why are the numbers different between the scikit-learn and TensorFlow methods when we used the same number of hidden layers and hidden units per layer? List two potential reasons.\n",
    "\n",
    "*ANSWER HERE*"
   ]
  },
  {
   "cell_type": "markdown",
   "id": "fcc847c4",
   "metadata": {},
   "source": [
    "### Process Description (4 marks)\n",
    "Please describe the process you used to create your code. Cite any websites or generative AI tools used. You can use the following questions as guidance:\n",
    "1. Where did you source your code?\n",
    "1. In what order did you complete the steps?\n",
    "1. If you used generative AI, what prompts did you use? Did you need to modify the code at all? Why or why not?\n",
    "1. Did you have any challenges? If yes, what were they? If not, what helped you to be successful?"
   ]
  },
  {
   "cell_type": "markdown",
   "id": "353717fd",
   "metadata": {},
   "source": [
    "## Part 3: Reflection (2 marks)\n",
    "Include a sentence or two about:\n",
    "- what you liked or disliked,\n",
    "- found interesting, confusing, challangeing, motivating\n",
    "while working on this assignment.\n",
    "\n",
    "\n",
    "*ADD YOUR THOUGHTS HERE*"
   ]
  },
  {
   "cell_type": "code",
   "execution_count": null,
   "id": "1ae29168",
   "metadata": {},
   "outputs": [],
   "source": []
  }
 ],
 "metadata": {
  "kernelspec": {
   "display_name": "Python 3",
   "language": "python",
   "name": "python3"
  },
  "language_info": {
   "codemirror_mode": {
    "name": "ipython",
    "version": 3
   },
   "file_extension": ".py",
   "mimetype": "text/x-python",
   "name": "python",
   "nbconvert_exporter": "python",
   "pygments_lexer": "ipython3",
   "version": "3.12.1"
  }
 },
 "nbformat": 4,
 "nbformat_minor": 5
}
